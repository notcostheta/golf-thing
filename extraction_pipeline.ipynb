{
 "cells": [
  {
   "cell_type": "code",
   "execution_count": 1,
   "metadata": {},
   "outputs": [],
   "source": [
    "from os import getenv\n",
    "from PyPDF2 import PdfReader"
   ]
  },
  {
   "cell_type": "code",
   "execution_count": 4,
   "metadata": {},
   "outputs": [
    {
     "name": "stdout",
     "output_type": "stream",
     "text": [
      "  One-Day Event Itinerary (Sample)  SATURDAY 7:30 - 8:00  Presenter arrives (available to meet with leaders) 8:00 - 8:30  Continental Breakfast (optional) 8:30 - 8:50  Welcome, Music 8:50 - 9:40  Session 1: Finding Purpose in Your Life 9:40 - 10:00  Small group discussion #1  10:00 - 10:10 Break (snacks are optional) 10:10 - 11:00 Session 2: Finding Respect and Honor at Home 11:00 - 11:20 Small group discussion #2 11:20 - 11:25 Gather/Pray 11:25 - 12:15 Lunch / Faculty meets with Follow-Up Group Leaders 12:15 - 12:30 Gather/Music (one song) 12:30 - 1:20  Session 3: Finding a New Best Friend in Your Wife 1:20 - 2:00  Formation of six-week follow-up groups and discussion #3 2:00 - 2:50  Session 4: Finding a Deeper Relationship with God 2:50 - 3:10  Small group discussion #4 3:10 - 3:20  Wrap-Up/Music/Close \n"
     ]
    }
   ],
   "source": [
    "def extract_itinerary(pdf_path: str) -> str:\n",
    "    \"\"\"\n",
    "    Extracts text from a PDF file.\n",
    "\n",
    "    Args:\n",
    "        pdf_path (str): The path to the PDF file.\n",
    "\n",
    "    Returns:\n",
    "        str: The extracted text from the PDF file.\n",
    "\n",
    "    \"\"\"\n",
    "    try:\n",
    "        reader = PdfReader(pdf_path)\n",
    "        text = \"\"\n",
    "        for page in reader.pages:\n",
    "            text += page.extract_text()\n",
    "        return text\n",
    "    except Exception as e:\n",
    "        print(e)\n",
    "        return \"\"\n",
    "\n",
    "\n",
    "if __name__ == \"__main__\":\n",
    "    pdf_path = \"/home/ubuntu/Desktop/golfthing/pdfs/event_1.pdf\"\n",
    "    print(extract_itinerary(pdf_path))"
   ]
  },
  {
   "cell_type": "code",
   "execution_count": null,
   "metadata": {},
   "outputs": [],
   "source": []
  }
 ],
 "metadata": {
  "kernelspec": {
   "display_name": ".venv",
   "language": "python",
   "name": "python3"
  },
  "language_info": {
   "codemirror_mode": {
    "name": "ipython",
    "version": 3
   },
   "file_extension": ".py",
   "mimetype": "text/x-python",
   "name": "python",
   "nbconvert_exporter": "python",
   "pygments_lexer": "ipython3",
   "version": "3.10.11"
  }
 },
 "nbformat": 4,
 "nbformat_minor": 2
}
